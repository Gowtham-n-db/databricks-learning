{
 "cells": [
  {
   "cell_type": "markdown",
   "metadata": {
    "application/vnd.databricks.v1+cell": {
     "cellMetadata": {},
     "inputWidgets": {},
     "nuid": "c5933a59-6e4c-4a2c-9e66-a2a9d215f580",
     "showTitle": false,
     "tableResultSettingsMap": {},
     "title": ""
    }
   },
   "source": [
    "### Reading json data with an inferred schema"
   ]
  },
  {
   "cell_type": "code",
   "execution_count": 0,
   "metadata": {
    "application/vnd.databricks.v1+cell": {
     "cellMetadata": {
      "byteLimit": 2048000,
      "rowLimit": 10000
     },
     "inputWidgets": {},
     "nuid": "013649a3-6b2e-41c4-8fa3-ca1d623cb667",
     "showTitle": false,
     "tableResultSettingsMap": {},
     "title": ""
    }
   },
   "outputs": [],
   "source": [
    "%pip install spark-xml"
   ]
  },
  {
   "cell_type": "code",
   "execution_count": 0,
   "metadata": {
    "application/vnd.databricks.v1+cell": {
     "cellMetadata": {
      "byteLimit": 2048000,
      "rowLimit": 10000
     },
     "inputWidgets": {},
     "nuid": "18e5587f-9a48-4c3d-980e-366091b08568",
     "showTitle": false,
     "tableResultSettingsMap": {},
     "title": ""
    },
    "tags": []
   },
   "outputs": [],
   "source": [
    "# Read XML file into a DataFrame\n",
    "df = (spark.read.format(\"com.databricks.spark.xml\")\n",
    "      .option(\"rowTag\", \"row\")\n",
    "      .load(\"/Volumes/mycatalog/myschema/myvolume/repofiles/Data-Engineering-with-Databricks-Cookbook-main/data/nobel_prizes.xml\"))"
   ]
  },
  {
   "cell_type": "code",
   "execution_count": 0,
   "metadata": {
    "application/vnd.databricks.v1+cell": {
     "cellMetadata": {
      "byteLimit": 2048000,
      "rowLimit": 10000
     },
     "inputWidgets": {},
     "nuid": "3009a5ec-d7ba-466b-9615-706de6fd03e6",
     "showTitle": false,
     "tableResultSettingsMap": {},
     "title": ""
    },
    "tags": []
   },
   "outputs": [],
   "source": [
    "df.printSchema()"
   ]
  },
  {
   "cell_type": "code",
   "execution_count": 0,
   "metadata": {
    "application/vnd.databricks.v1+cell": {
     "cellMetadata": {
      "byteLimit": 2048000,
      "rowLimit": 10000
     },
     "inputWidgets": {},
     "nuid": "e4aaf72a-4542-487a-8e2e-2003b19646fc",
     "showTitle": false,
     "tableResultSettingsMap": {},
     "title": ""
    },
    "tags": []
   },
   "outputs": [],
   "source": [
    "# Display contents of DataFrame\n",
    "df.show()\n",
    "\n",
    "# Alternatively\n",
    "\n",
    "# df.show(50)  # Display first 50 rows\n",
    "# df.show(10, truncate=False)  # Display first 10 rows without truncation"
   ]
  },
  {
   "cell_type": "code",
   "execution_count": 0,
   "metadata": {
    "application/vnd.databricks.v1+cell": {
     "cellMetadata": {
      "byteLimit": 2048000,
      "rowLimit": 10000
     },
     "inputWidgets": {},
     "nuid": "d27b1719-1213-4b56-ad75-ff9ec4e1824f",
     "showTitle": false,
     "tableResultSettingsMap": {},
     "title": ""
    },
    "tags": []
   },
   "outputs": [],
   "source": [
    "df.select(\"category\", \"year\").show()"
   ]
  },
  {
   "cell_type": "code",
   "execution_count": 0,
   "metadata": {
    "application/vnd.databricks.v1+cell": {
     "cellMetadata": {
      "byteLimit": 2048000,
      "rowLimit": 10000
     },
     "inputWidgets": {},
     "nuid": "f29daf76-adba-4e7c-bb9a-5362ec6ff335",
     "showTitle": false,
     "tableResultSettingsMap": {},
     "title": ""
    },
    "tags": []
   },
   "outputs": [],
   "source": [
    "(df.select(\"category\", \"year\"\n",
    "     , col(\"laureates\").getItem(0).id).show())"
   ]
  },
  {
   "cell_type": "code",
   "execution_count": 0,
   "metadata": {
    "application/vnd.databricks.v1+cell": {
     "cellMetadata": {
      "byteLimit": 2048000,
      "rowLimit": 10000
     },
     "inputWidgets": {},
     "nuid": "419927e8-b645-41da-9e08-c3e553fe6853",
     "showTitle": false,
     "tableResultSettingsMap": {},
     "title": ""
    },
    "tags": []
   },
   "outputs": [],
   "source": [
    "df_flattened = (\n",
    "    df\n",
    "    .withColumn(\"laureates\",explode(col(\"laureates\")))\n",
    "    .select(col(\"category\")\n",
    "            , col(\"year\")\n",
    "            , col(\"overallMotivation\")\n",
    "            , col(\"laureates.id\")\n",
    "            , col(\"laureates.firstname\")\n",
    "            , col(\"laureates.surname\")\n",
    "            , col(\"laureates.share\")\n",
    "            , col(\"laureates.motivation\")))\n",
    "\n",
    "df_flattened.show(truncate=False)"
   ]
  },
  {
   "cell_type": "code",
   "execution_count": 0,
   "metadata": {
    "application/vnd.databricks.v1+cell": {
     "cellMetadata": {
      "byteLimit": 2048000,
      "rowLimit": 10000
     },
     "inputWidgets": {},
     "nuid": "ea19080c-0dfe-4c7b-8c6d-79af3e55fc70",
     "showTitle": false,
     "tableResultSettingsMap": {},
     "title": ""
    },
    "tags": []
   },
   "outputs": [],
   "source": [
    "from pyspark.sql.types import StructType, StructField, StringType, IntegerType, ArrayType\n",
    "\n",
    "schema = StructType(\n",
    "    [StructField('category', StringType(), True), \n",
    "     StructField('laureates', ArrayType(StructType(\n",
    "         [StructField('firstname', StringType(), True),\n",
    "          StructField('id', StringType(), True), \n",
    "          StructField('motivation', StringType(), True), \n",
    "          StructField('share', StringType(), True), \n",
    "          StructField('surname', StringType(), True)]), True), True),\n",
    "     StructField('overallMotivation', StringType(), True),\n",
    "     StructField('year', IntegerType(), True)])\n",
    "\n",
    "# Read XML file into a DataFrame\n",
    "df_with_schema = (spark.read.format(\"com.databricks.spark.xml\")\n",
    "                  .schema(schema)\n",
    "                  .option(\"rowTag\", \"row\")\n",
    "                  .load(\"/Volumes/mycatalog/myschema/myvolume/repofiles/Data-Engineering-with-Databricks-Cookbook-main/data/nobel_prizes.xml\"))\n",
    "\n",
    "df_with_schema.show()"
   ]
  }
 ],
 "metadata": {
  "application/vnd.databricks.v1+notebook": {
   "computePreferences": null,
   "dashboards": [],
   "environmentMetadata": null,
   "inputWidgetPreferences": null,
   "language": "python",
   "notebookMetadata": {
    "pythonIndentUnit": 4
   },
   "notebookName": "1.4 read-xml-data",
   "widgets": {}
  },
  "kernelspec": {
   "display_name": "Python 3 (ipykernel)",
   "language": "python",
   "name": "python3"
  },
  "language_info": {
   "name": "python"
  },
  "vscode": {
   "interpreter": {
    "hash": "916dbcbb3f70747c44a77c7bcd40155683ae19c65e1c03b4aa3499c5328201f1"
   }
  }
 },
 "nbformat": 4,
 "nbformat_minor": 0
}
