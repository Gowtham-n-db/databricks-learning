{
 "cells": [
  {
   "cell_type": "markdown",
   "metadata": {
    "application/vnd.databricks.v1+cell": {
     "cellMetadata": {},
     "inputWidgets": {},
     "nuid": "efe6da41-1c73-4a81-b7d9-8e281c68feba",
     "showTitle": false,
     "tableResultSettingsMap": {},
     "title": ""
    },
    "azdata_cell_guid": "b53f0a6a-c17d-4a87-8a20-be5bf36cb010",
    "language": "sql"
   },
   "source": [
    "### DATA DESCRIPTION\n",
    "\n",
    "We’ll use an example table of work done per day for our illustrative purposes\n",
    "\n",
    "- Day: day of work\n",
    "- Start: work start time\n",
    "- Duration: hour of work done"
   ]
  },
  {
   "cell_type": "code",
   "execution_count": 0,
   "metadata": {
    "application/vnd.databricks.v1+cell": {
     "cellMetadata": {},
     "inputWidgets": {},
     "nuid": "49480534-3ba3-4d2e-b4ce-4563ba25c606",
     "showTitle": false,
     "tableResultSettingsMap": {},
     "title": ""
    },
    "azdata_cell_guid": "695a71b2-599c-4cab-aa49-95943c074f94",
    "language": "sql"
   },
   "outputs": [],
   "source": [
    "IF NOT EXISTS (SELECT name FROM sys.databases WHERE name = N'MyDB')\r\n",
    "BEGIN\r\n",
    "    CREATE DATABASE [MyDB];\r\n",
    "END;"
   ]
  },
  {
   "cell_type": "code",
   "execution_count": 0,
   "metadata": {
    "application/vnd.databricks.v1+cell": {
     "cellMetadata": {},
     "inputWidgets": {},
     "nuid": "c09fdc93-c5b7-4cd0-b7fd-9ee61f647014",
     "showTitle": false,
     "tableResultSettingsMap": {},
     "title": ""
    },
    "azdata_cell_guid": "e2e7d589-538d-4c16-ad3d-400e58096862",
    "language": "sql"
   },
   "outputs": [],
   "source": [
    "USE MyDB\r\n",
    "\r\n",
    "IF OBJECT_ID('dbo.DailyEfforts', 'U') IS NOT NULL\r\n",
    "    BEGIN\r\n",
    "        PRINT 'Table exists'\r\n",
    "        DROP TABLE dbo.DailyEfforts\r\n",
    "        PRINT 'Table dropped'\r\n",
    "    END\r\n",
    "ELSE\r\n",
    "    PRINT 'Table does not exist';"
   ]
  },
  {
   "cell_type": "code",
   "execution_count": 0,
   "metadata": {
    "application/vnd.databricks.v1+cell": {
     "cellMetadata": {},
     "inputWidgets": {},
     "nuid": "73357b7f-3353-4f91-bab5-33ef32c5d8b1",
     "showTitle": false,
     "tableResultSettingsMap": {},
     "title": ""
    },
    "azdata_cell_guid": "a9cde2d8-e615-417e-b04f-fc701f36670f",
    "language": "sql"
   },
   "outputs": [],
   "source": [
    "USE MyDB\r\n",
    "\r\n",
    "CREATE TABLE DailyEfforts (\r\n",
    "    Day INT PRIMARY KEY,\r\n",
    "    Start INT NOT NULL,\r\n",
    "    Duration INT NOT NULL\r\n",
    ")"
   ]
  },
  {
   "cell_type": "code",
   "execution_count": 0,
   "metadata": {
    "application/vnd.databricks.v1+cell": {
     "cellMetadata": {},
     "inputWidgets": {},
     "nuid": "55d969a6-a096-4368-90d2-fc8ec4e44e61",
     "showTitle": false,
     "tableResultSettingsMap": {},
     "title": ""
    },
    "azdata_cell_guid": "20383660-9317-4248-b597-62634fdeabcc",
    "language": "sql"
   },
   "outputs": [],
   "source": [
    "USE MyDB\r\n",
    "\r\n",
    "INSERT INTO dbo.DailyEfforts (\r\n",
    "    Day,\r\n",
    "    Start,\r\n",
    "    Duration\r\n",
    ")\r\n",
    "VALUES\r\n",
    "    (1, 7, 5),\r\n",
    "    (2, 9, 2),\r\n",
    "    (3, 8, 2),\r\n",
    "    (4, 9, 3),\r\n",
    "    (5, 10, 4),\r\n",
    "    (6, 8, 5),\r\n",
    "    (7, 8, 2),\r\n",
    "    (8, 12, 0);"
   ]
  },
  {
   "cell_type": "code",
   "execution_count": 0,
   "metadata": {
    "application/vnd.databricks.v1+cell": {
     "cellMetadata": {},
     "inputWidgets": {},
     "nuid": "fcaa84ee-7ef2-4c8d-b567-ea9adcf011fa",
     "showTitle": false,
     "tableResultSettingsMap": {},
     "title": ""
    },
    "azdata_cell_guid": "12d736e3-ba4d-4d9d-a4b2-06fa55861315",
    "language": "sql"
   },
   "outputs": [],
   "source": [
    "SELECT * FROM dbo.DailyEfforts"
   ]
  }
 ],
 "metadata": {
  "application/vnd.databricks.v1+notebook": {
   "computePreferences": null,
   "dashboards": [],
   "environmentMetadata": null,
   "inputWidgetPreferences": null,
   "language": "sql",
   "notebookMetadata": {},
   "notebookName": "Create Tables",
   "widgets": {}
  },
  "kernelspec": {
   "display_name": "SQL",
   "language": "sql",
   "name": "SQL"
  },
  "language_info": {
   "name": "sql"
  }
 },
 "nbformat": 4,
 "nbformat_minor": 0
}
