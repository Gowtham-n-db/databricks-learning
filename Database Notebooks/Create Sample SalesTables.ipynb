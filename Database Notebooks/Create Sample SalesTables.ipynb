{
 "cells": [
  {
   "cell_type": "code",
   "execution_count": 0,
   "metadata": {
    "application/vnd.databricks.v1+cell": {
     "cellMetadata": {
      "byteLimit": 2048000,
      "rowLimit": 10000
     },
     "inputWidgets": {},
     "nuid": "6a524b32-b633-4c84-bed4-86b6adcb1993",
     "showTitle": false,
     "tableResultSettingsMap": {},
     "title": ""
    }
   },
   "outputs": [],
   "source": [
    "%python\n",
    "# Get the list of tables in the database\n",
    "tables = spark.sql(\"SHOW TABLES IN mydb\").collect()\n",
    "\n",
    "# Drop each table\n",
    "for table in tables:\n",
    "    table_name = table['tableName']\n",
    "    spark.sql(f\"DROP TABLE IF EXISTS mydb.{table_name}\")\n",
    "\n",
    "# Now drop the database\n",
    "spark.sql(\"DROP DATABASE mydb\")"
   ]
  },
  {
   "cell_type": "code",
   "execution_count": 0,
   "metadata": {
    "application/vnd.databricks.v1+cell": {
     "cellMetadata": {
      "byteLimit": 2048000,
      "rowLimit": 10000
     },
     "inputWidgets": {},
     "nuid": "ad9dba19-feb0-4ca7-8c18-b74e5d7d4a47",
     "showTitle": false,
     "tableResultSettingsMap": {},
     "title": ""
    },
    "azdata_cell_guid": "028cbfd7-dd71-45fc-ad91-0a246921ba5a",
    "language": "sql"
   },
   "outputs": [],
   "source": [
    "USE MyDB\n",
    "\n",
    "IF OBJECT_ID('dbo.SalesTable', 'U') IS NOT NULL\n",
    "    BEGIN\n",
    "        PRINT 'Table exists'\n",
    "        DROP TABLE dbo.SalesTable\n",
    "        PRINT 'Table dropped'\n",
    "    END\n",
    "ELSE\n",
    "    PRINT 'Table does not exist';"
   ]
  },
  {
   "cell_type": "code",
   "execution_count": 0,
   "metadata": {
    "application/vnd.databricks.v1+cell": {
     "cellMetadata": {},
     "inputWidgets": {},
     "nuid": "e7e2890b-cf59-4345-894a-3b2e8be76113",
     "showTitle": false,
     "tableResultSettingsMap": {},
     "title": ""
    },
    "azdata_cell_guid": "52628ee3-bdaf-4254-a678-c9c27a32c185",
    "language": "sql",
    "tags": []
   },
   "outputs": [],
   "source": [
    "USE MyDB\r\n",
    "\r\n",
    "CREATE TABLE SalesTable (\r\n",
    "    SaleID INT PRIMARY KEY,\r\n",
    "    Salesperson NVARCHAR(30) NOT NULL,\r\n",
    "    SaleAmount INT NOT NULL,\r\n",
    "    SaleDate DATETIME\r\n",
    ")"
   ]
  },
  {
   "cell_type": "code",
   "execution_count": 0,
   "metadata": {
    "application/vnd.databricks.v1+cell": {
     "cellMetadata": {},
     "inputWidgets": {},
     "nuid": "270b073d-476b-4e48-b376-266ca4050cc8",
     "showTitle": false,
     "tableResultSettingsMap": {},
     "title": ""
    },
    "azdata_cell_guid": "256df6cc-f42b-42e6-8cea-7b0c46156a5d",
    "language": "sql"
   },
   "outputs": [],
   "source": [
    "USE MyDB\r\n",
    "\r\n",
    "INSERT INTO dbo.SalesTable (\r\n",
    "    SaleID,\r\n",
    "    Salesperson,\r\n",
    "    SaleAmount,\r\n",
    "    SaleDate\r\n",
    ")\r\n",
    "VALUES\r\n",
    "    (1,'Alice',300,2023-01-01),\r\n",
    "    (2,'Bob',150,2023-01-02),\r\n",
    "    (3,'Alice',200,2023-01-03),\r\n",
    "    (4,'Charlie',250,2023-01-04),\r\n",
    "    (5,'Bob',300,2023-01-05),\r\n",
    "    (6,'Alice',100,2023-01-06),\r\n",
    "    (7,'Charlie',350,2023-01-07),\r\n",
    "    (8,'Alice',450,2023-01-08),\r\n",
    "    (9,'Bob',200,2023-01-09),\r\n",
    "    (10,'Charlie',400,2023-01-10),\r\n",
    "    (11,'Alice',150,2023-01-11),\r\n",
    "    (12,'Bob',250,2023-01-12),\r\n",
    "    (13,'Charlie',300,2023-01-13),\r\n",
    "    (14,'Alice',350,2023-01-14),\r\n",
    "    (15,'Bob',100,2023-01-15);"
   ]
  },
  {
   "cell_type": "code",
   "execution_count": 0,
   "metadata": {
    "application/vnd.databricks.v1+cell": {
     "cellMetadata": {},
     "inputWidgets": {},
     "nuid": "7e3f4bb0-f674-4991-a849-4e3487d79b27",
     "showTitle": false,
     "tableResultSettingsMap": {},
     "title": ""
    },
    "azdata_cell_guid": "b3b699c7-2e1f-4cb6-9ed3-bbecde0eb57f",
    "language": "sql"
   },
   "outputs": [],
   "source": [
    "SELECT * FROM dbo.SalesTable"
   ]
  }
 ],
 "metadata": {
  "application/vnd.databricks.v1+notebook": {
   "computePreferences": null,
   "dashboards": [],
   "environmentMetadata": null,
   "inputWidgetPreferences": null,
   "language": "sql",
   "notebookMetadata": {
    "pythonIndentUnit": 4
   },
   "notebookName": "Create Sample SalesTables",
   "widgets": {}
  },
  "kernelspec": {
   "display_name": "SQL",
   "language": "sql",
   "name": "SQL"
  },
  "language_info": {
   "name": "sql"
  }
 },
 "nbformat": 4,
 "nbformat_minor": 0
}
