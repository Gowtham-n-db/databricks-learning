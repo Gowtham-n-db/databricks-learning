{
 "cells": [
  {
   "cell_type": "code",
   "execution_count": 0,
   "metadata": {
    "application/vnd.databricks.v1+cell": {
     "cellMetadata": {
      "byteLimit": 2048000,
      "rowLimit": 10000
     },
     "inputWidgets": {},
     "nuid": "ad9dba19-feb0-4ca7-8c18-b74e5d7d4a47",
     "showTitle": false,
     "tableResultSettingsMap": {},
     "title": ""
    },
    "azdata_cell_guid": "028cbfd7-dd71-45fc-ad91-0a246921ba5a",
    "language": "sql"
   },
   "outputs": [],
   "source": [
    "DROP TABLE IF EXISTS workspace.DEFAULT.fauji"
   ]
  },
  {
   "cell_type": "code",
   "execution_count": 0,
   "metadata": {
    "application/vnd.databricks.v1+cell": {
     "cellMetadata": {
      "byteLimit": 2048000,
      "rowLimit": 10000
     },
     "inputWidgets": {},
     "nuid": "e7e2890b-cf59-4345-894a-3b2e8be76113",
     "showTitle": false,
     "tableResultSettingsMap": {},
     "title": ""
    },
    "azdata_cell_guid": "52628ee3-bdaf-4254-a678-c9c27a32c185",
    "language": "sql",
    "tags": []
   },
   "outputs": [],
   "source": [
    "CREATE TABLE WORKSPACE.DEFAULT.SalesTable (\n",
    "    SaleID INT PRIMARY KEY,\n",
    "    Salesperson VARCHAR(30) NOT NULL,\n",
    "    SaleAmount INT NOT NULL,\n",
    "    SaleDate DATE,\n",
    "    CurrentDate TIMESTAMP DEFAULT\n",
    "    CURRENT_TIMESTAMP\n",
    ")"
   ]
  },
  {
   "cell_type": "code",
   "execution_count": 0,
   "metadata": {
    "application/vnd.databricks.v1+cell": {
     "cellMetadata": {
      "byteLimit": 2048000,
      "rowLimit": 10000
     },
     "inputWidgets": {},
     "nuid": "fee197cf-a1b4-4b58-9118-01c6864038c8",
     "showTitle": false,
     "tableResultSettingsMap": {},
     "title": ""
    }
   },
   "outputs": [],
   "source": [
    "CREATE TABLE WORKSPACE.DEFAULT.fauji (\n",
    "    SaleID INT PRIMARY KEY,\n",
    "    Salesperson VARCHAR(30) NOT NULL,\n",
    "    SaleAmount INT NOT NULL,\n",
    "    SaleDate DATE\n",
    ")"
   ]
  },
  {
   "cell_type": "code",
   "execution_count": 0,
   "metadata": {
    "application/vnd.databricks.v1+cell": {
     "cellMetadata": {
      "byteLimit": 2048000,
      "rowLimit": 10000
     },
     "inputWidgets": {},
     "nuid": "6c4839e8-826d-4747-aba8-6c3de53f99e8",
     "showTitle": false,
     "tableResultSettingsMap": {},
     "title": ""
    }
   },
   "outputs": [],
   "source": [
    "ALTER TABLE WORKSPACE.DEFAULT.fauji\n",
    "SET TBLPROPERTIES (\n",
    "  'delta.feature.allowColumnDefaults' = 'enabled'\n",
    ");"
   ]
  },
  {
   "cell_type": "code",
   "execution_count": 0,
   "metadata": {
    "application/vnd.databricks.v1+cell": {
     "cellMetadata": {
      "byteLimit": 2048000,
      "rowLimit": 10000
     },
     "inputWidgets": {},
     "nuid": "48cf3525-a17a-44fc-b010-51bc8a346d0f",
     "showTitle": false,
     "tableResultSettingsMap": {},
     "title": ""
    }
   },
   "outputs": [],
   "source": []
  },
  {
   "cell_type": "code",
   "execution_count": 0,
   "metadata": {
    "application/vnd.databricks.v1+cell": {
     "cellMetadata": {
      "byteLimit": 2048000,
      "rowLimit": 10000
     },
     "inputWidgets": {},
     "nuid": "869881ce-5248-48bd-b89c-1d479cfceefb",
     "showTitle": false,
     "tableResultSettingsMap": {},
     "title": ""
    }
   },
   "outputs": [],
   "source": [
    "--SET TIME ZONE 'Asia/Kolkata';\n",
    "\n",
    "--ALTER TABLE WORKSPACE.DEFAULT.fauji\n",
    "--ADD COLUMN newcurrentstamp TIMESTAMP;\n",
    "\n",
    "UPDATE WORKSPACE.DEFAULT.fauji\n",
    "SET newcurrentstamp = (\n",
    "  CURRENT_TIMESTAMP \n",
    ");\n",
    "\n",
    "--ALTER Table WORKSPACE.DEFAULT.fauji\n",
    "--SET newcurrentstamp = CURRENT_TIMESTAMP\n",
    "--ALTER TABLE WORKSPACE.DEFAULT.fauji\n",
    "--ADD COLUMN systemdatetime TIMESTAMP DEFAULT CURRENT_TIMESTAMP;\n",
    "\n",
    "-- Set session timezone to India before inserting or updating to ensure CURRENT_TIMESTAMP uses Indian time\n"
   ]
  },
  {
   "cell_type": "code",
   "execution_count": 0,
   "metadata": {
    "application/vnd.databricks.v1+cell": {
     "cellMetadata": {
      "byteLimit": 2048000,
      "rowLimit": 10000
     },
     "inputWidgets": {},
     "nuid": "270b073d-476b-4e48-b376-266ca4050cc8",
     "showTitle": false,
     "tableResultSettingsMap": {},
     "title": ""
    },
    "azdata_cell_guid": "256df6cc-f42b-42e6-8cea-7b0c46156a5d",
    "language": "sql"
   },
   "outputs": [],
   "source": [
    "INSERT INTO WORKSPACE.DEFAULT.fauji (\n",
    "    SaleID,\n",
    "    Salesperson,\n",
    "    SaleAmount,\n",
    "    SaleDate\n",
    ")\n",
    "VALUES\n",
    "    (1,'Alice',300,'2023-01-01'),\n",
    "    (2,'Bob',150,'2023-01-02'),\n",
    "    (3,'Alice',200,'2023-01-03'),\n",
    "    (4,'Charlie',250,'2023-01-04'),\n",
    "    (5,'Bob',300,'2023-01-05'),\n",
    "    (6,'Alice',100,'2023-01-06'),\n",
    "    (7,'Charlie',350,'2023-01-07'),\n",
    "    (8,'Alice',450,'2023-01-08'),\n",
    "    (9,'Bob',200,'2023-01-09'),\n",
    "    (10,'Charlie',400,'2023-01-10'),\n",
    "    (11,'Alice',150,'2023-01-11'),\n",
    "    (12,'Bob',250,'2023-01-12'),\n",
    "    (13,'Charlie',300,'2023-01-13'),\n",
    "    (14,'Alice',350,'2023-01-14'),\n",
    "    (15,'Bob',100,'2023-01-15');"
   ]
  },
  {
   "cell_type": "code",
   "execution_count": 0,
   "metadata": {
    "application/vnd.databricks.v1+cell": {
     "cellMetadata": {
      "byteLimit": 2048000,
      "rowLimit": 10000
     },
     "inputWidgets": {},
     "nuid": "7e3f4bb0-f674-4991-a849-4e3487d79b27",
     "showTitle": false,
     "tableResultSettingsMap": {
      "0": {
       "dataGridStateBlob": "{\"version\":1,\"tableState\":{\"columnPinning\":{\"left\":[\"#row_number#\"],\"right\":[]},\"columnSizing\":{\"CurrentDate\":207,\"newcurrentstamp\":283},\"columnVisibility\":{}},\"settings\":{\"columns\":{}},\"syncTimestamp\":1757941596293}",
       "filterBlob": null,
       "queryPlanFiltersBlob": null,
       "tableResultIndex": 0
      }
     },
     "title": ""
    },
    "azdata_cell_guid": "b3b699c7-2e1f-4cb6-9ed3-bbecde0eb57f",
    "language": "sql"
   },
   "outputs": [],
   "source": [
    "SELECT * FROM WORKSPACE.DEFAULT.fauji"
   ]
  },
  {
   "cell_type": "code",
   "execution_count": 0,
   "metadata": {
    "application/vnd.databricks.v1+cell": {
     "cellMetadata": {
      "byteLimit": 2048000,
      "rowLimit": 10000
     },
     "inputWidgets": {},
     "nuid": "06f2ad55-8e45-4936-a695-53f411efd8d2",
     "showTitle": false,
     "tableResultSettingsMap": {},
     "title": ""
    }
   },
   "outputs": [],
   "source": []
  },
  {
   "cell_type": "code",
   "execution_count": 0,
   "metadata": {
    "application/vnd.databricks.v1+cell": {
     "cellMetadata": {
      "byteLimit": 2048000,
      "rowLimit": 10000
     },
     "inputWidgets": {},
     "nuid": "61ca0ab1-bd75-404a-8ece-eb1c689b9ae0",
     "showTitle": false,
     "tableResultSettingsMap": {},
     "title": ""
    }
   },
   "outputs": [],
   "source": [
    "CREATE TABLE WORKSPACE.DEFAULT.new_table_with_timestamp (\n",
    "    id INT,\n",
    "    name VARCHAR(50),\n",
    "    created_at TIMESTAMP\n",
    ");\n",
    "\n",
    "ALTER TABLE WORKSPACE.DEFAULT.new_table_with_timestamp\n",
    "SET TBLPROPERTIES (\n",
    "  'delta.feature.allowColumnDefaults' = 'enabled'\n",
    ");\n",
    "\n",
    "ALTER TABLE WORKSPACE.DEFAULT.new_table_with_timestamp\n",
    "ALTER COLUMN created_at SET DEFAULT CURRENT_TIMESTAMP;"
   ]
  },
  {
   "cell_type": "code",
   "execution_count": 0,
   "metadata": {
    "application/vnd.databricks.v1+cell": {
     "cellMetadata": {
      "byteLimit": 2048000,
      "rowLimit": 10000
     },
     "inputWidgets": {},
     "nuid": "c509d4e4-85f0-48aa-9906-61837410b7a2",
     "showTitle": false,
     "tableResultSettingsMap": {},
     "title": ""
    }
   },
   "outputs": [],
   "source": [
    "INSERT INTO WORKSPACE.DEFAULT.new_table_with_timestamp (\n",
    "    id,\n",
    "    name\n",
    ")\n",
    "VALUES\n",
    "    (1,'Alice'),\n",
    "    (2,'Bob')"
   ]
  },
  {
   "cell_type": "code",
   "execution_count": 0,
   "metadata": {
    "application/vnd.databricks.v1+cell": {
     "cellMetadata": {
      "byteLimit": 2048000,
      "rowLimit": 10000
     },
     "inputWidgets": {},
     "nuid": "47d47796-570d-480b-86f6-2e4b0a959a44",
     "showTitle": false,
     "tableResultSettingsMap": {},
     "title": ""
    }
   },
   "outputs": [],
   "source": [
    "SELECT * FROM WORKSPACE.DEFAULT.new_table_with_timestamp"
   ]
  },
  {
   "cell_type": "code",
   "execution_count": 0,
   "metadata": {
    "application/vnd.databricks.v1+cell": {
     "cellMetadata": {
      "byteLimit": 2048000,
      "rowLimit": 10000
     },
     "inputWidgets": {},
     "nuid": "28a6e118-225a-4d57-9900-159efb540bde",
     "showTitle": false,
     "tableResultSettingsMap": {},
     "title": ""
    }
   },
   "outputs": [],
   "source": [
    "CREATE TABLE WORKSPACE.DEFAULT.RAMKALPI"
   ]
  },
  {
   "cell_type": "code",
   "execution_count": 0,
   "metadata": {
    "application/vnd.databricks.v1+cell": {
     "cellMetadata": {
      "byteLimit": 2048000,
      "rowLimit": 10000
     },
     "inputWidgets": {},
     "nuid": "1cb8da95-e1c6-4273-a697-24cd4d08a363",
     "showTitle": false,
     "tableResultSettingsMap": {},
     "title": ""
    }
   },
   "outputs": [],
   "source": [
    "CREATE TABLE WORKSPACE.DEFAULT.RAMKALPANA\n",
    "USING DELTA"
   ]
  },
  {
   "cell_type": "code",
   "execution_count": 0,
   "metadata": {
    "application/vnd.databricks.v1+cell": {
     "cellMetadata": {
      "byteLimit": 2048000,
      "rowLimit": 10000
     },
     "inputWidgets": {},
     "nuid": "c4151eea-f754-4ac8-a4df-3ad03d7f101a",
     "showTitle": false,
     "tableResultSettingsMap": {},
     "title": ""
    }
   },
   "outputs": [],
   "source": [
    "CREATE TABLE WORKSPACE.DEFAULT.RAMLOVEKALPANA (\n",
    "    id INT,\n",
    "    name VARCHAR(50),\n",
    "    created_at TIMESTAMP\n",
    ")\n",
    "USING DELTA;\n",
    "\n",
    "ALTER TABLE WORKSPACE.DEFAULT.RAMLOVEKALPANA\n",
    "SET TBLPROPERTIES (\n",
    "  'delta.feature.allowColumnDefaults' = 'enabled'\n",
    ");\n",
    "\n",
    "ALTER TABLE WORKSPACE.DEFAULT.RAMLOVEKALPANA\n",
    "ALTER COLUMN created_at SET DEFAULT CURRENT_TIMESTAMP;"
   ]
  }
 ],
 "metadata": {
  "application/vnd.databricks.v1+notebook": {
   "computePreferences": null,
   "dashboards": [],
   "environmentMetadata": null,
   "inputWidgetPreferences": null,
   "language": "sql",
   "notebookMetadata": {
    "pythonIndentUnit": 4
   },
   "notebookName": "Create Sample SalesTables",
   "widgets": {}
  },
  "kernelspec": {
   "display_name": "SQL",
   "language": "sql",
   "name": "SQL"
  },
  "language_info": {
   "name": "sql"
  }
 },
 "nbformat": 4,
 "nbformat_minor": 0
}
